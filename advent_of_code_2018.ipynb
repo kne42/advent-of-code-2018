{
 "cells": [
  {
   "cell_type": "markdown",
   "metadata": {},
   "source": [
    "# Advent of Code (2018)"
   ]
  },
  {
   "cell_type": "code",
   "execution_count": 1,
   "metadata": {},
   "outputs": [],
   "source": [
    "def read_input(day):\n",
    "    with open(f'day_{day}.txt') as f:\n",
    "        return f.read().split('\\n')"
   ]
  },
  {
   "cell_type": "markdown",
   "metadata": {},
   "source": [
    "## Dec 1"
   ]
  },
  {
   "cell_type": "code",
   "execution_count": 2,
   "metadata": {},
   "outputs": [],
   "source": [
    "frequencies = [int(s) for s in read_input(1)]"
   ]
  },
  {
   "cell_type": "code",
   "execution_count": 3,
   "metadata": {},
   "outputs": [
    {
     "data": {
      "text/plain": [
       "540"
      ]
     },
     "execution_count": 3,
     "metadata": {},
     "output_type": "execute_result"
    }
   ],
   "source": [
    "sum(frequencies)"
   ]
  },
  {
   "cell_type": "code",
   "execution_count": 4,
   "metadata": {},
   "outputs": [],
   "source": [
    "import itertools as it\n",
    "\n",
    "\n",
    "def find_duplicates(freqs):\n",
    "    abs_freqs = [0]\n",
    "\n",
    "    for changes in it.repeat(freqs):\n",
    "        brk = True\n",
    "        for f in changes:\n",
    "            next_freq = abs_freqs[-1] + f\n",
    "            if next_freq in abs_freqs:\n",
    "                break\n",
    "            abs_freqs.append(next_freq)\n",
    "        else:\n",
    "            brk = False\n",
    "\n",
    "        if brk:\n",
    "            break\n",
    "\n",
    "    return next_freq"
   ]
  },
  {
   "cell_type": "code",
   "execution_count": 5,
   "metadata": {},
   "outputs": [
    {
     "data": {
      "text/plain": [
       "0"
      ]
     },
     "execution_count": 5,
     "metadata": {},
     "output_type": "execute_result"
    }
   ],
   "source": [
    "find_duplicates([1, -1])"
   ]
  },
  {
   "cell_type": "code",
   "execution_count": 6,
   "metadata": {},
   "outputs": [
    {
     "data": {
      "text/plain": [
       "10"
      ]
     },
     "execution_count": 6,
     "metadata": {},
     "output_type": "execute_result"
    }
   ],
   "source": [
    "find_duplicates([3, 3, 4, -2, -4])"
   ]
  },
  {
   "cell_type": "code",
   "execution_count": 7,
   "metadata": {},
   "outputs": [
    {
     "data": {
      "text/plain": [
       "5"
      ]
     },
     "execution_count": 7,
     "metadata": {},
     "output_type": "execute_result"
    }
   ],
   "source": [
    "find_duplicates([-6, 3, 8, 5, -6])"
   ]
  },
  {
   "cell_type": "code",
   "execution_count": 8,
   "metadata": {},
   "outputs": [
    {
     "data": {
      "text/plain": [
       "14"
      ]
     },
     "execution_count": 8,
     "metadata": {},
     "output_type": "execute_result"
    }
   ],
   "source": [
    "find_duplicates([7, 7, -2, -7, -4])"
   ]
  },
  {
   "cell_type": "code",
   "execution_count": 9,
   "metadata": {},
   "outputs": [
    {
     "data": {
      "text/plain": [
       "73056"
      ]
     },
     "execution_count": 9,
     "metadata": {},
     "output_type": "execute_result"
    }
   ],
   "source": [
    "find_duplicates(frequencies)"
   ]
  },
  {
   "cell_type": "markdown",
   "metadata": {},
   "source": [
    "## Day 2"
   ]
  },
  {
   "cell_type": "code",
   "execution_count": 10,
   "metadata": {},
   "outputs": [],
   "source": [
    "ids = read_input(2)"
   ]
  },
  {
   "cell_type": "code",
   "execution_count": 11,
   "metadata": {},
   "outputs": [],
   "source": [
    "from collections import defaultdict\n",
    "\n",
    "\n",
    "def checksum(ids):\n",
    "    two = 0\n",
    "    three = 0\n",
    "    \n",
    "    for id in ids:\n",
    "        counts = defaultdict(int)\n",
    "        for c in id:\n",
    "            counts[c] += 1\n",
    "            \n",
    "        if 2 in counts.values():\n",
    "            two += 1\n",
    "        if 3 in counts.values():\n",
    "            three += 1\n",
    "            \n",
    "    return two * three"
   ]
  },
  {
   "cell_type": "code",
   "execution_count": 12,
   "metadata": {},
   "outputs": [
    {
     "data": {
      "text/plain": [
       "12"
      ]
     },
     "execution_count": 12,
     "metadata": {},
     "output_type": "execute_result"
    }
   ],
   "source": [
    "checksum(['abcdef',\n",
    "          'bababc',\n",
    "          'abbcde',\n",
    "          'abcccd',\n",
    "          'aabcdd',\n",
    "          'abcdee',\n",
    "          'ababab'])"
   ]
  },
  {
   "cell_type": "code",
   "execution_count": 13,
   "metadata": {},
   "outputs": [
    {
     "data": {
      "text/plain": [
       "8715"
      ]
     },
     "execution_count": 13,
     "metadata": {},
     "output_type": "execute_result"
    }
   ],
   "source": [
    "checksum(ids)"
   ]
  },
  {
   "cell_type": "code",
   "execution_count": 14,
   "metadata": {},
   "outputs": [],
   "source": [
    "def similar_ids(ids):\n",
    "    for id1 in ids:\n",
    "        for id2 in ids:\n",
    "            dissimilarity = 0\n",
    "            for c1, c2 in zip(id1, id2):\n",
    "                if c1 != c2:\n",
    "                    dissimilarity += 1\n",
    "                    \n",
    "            if dissimilarity == 1:\n",
    "                break\n",
    "        if dissimilarity == 1:\n",
    "            break\n",
    "    else:\n",
    "        return False\n",
    "    \n",
    "    sim = ''.join(c1 for c1, c2 in zip(id1, id2) if c1 == c2)\n",
    "    \n",
    "    return id1, id2, sim"
   ]
  },
  {
   "cell_type": "code",
   "execution_count": 15,
   "metadata": {},
   "outputs": [
    {
     "data": {
      "text/plain": [
       "('fghij', 'fguij', 'fgij')"
      ]
     },
     "execution_count": 15,
     "metadata": {},
     "output_type": "execute_result"
    }
   ],
   "source": [
    "similar_ids(['abcde',\n",
    "             'fghij',\n",
    "             'klmno',\n",
    "             'pqrst',\n",
    "             'fguij',\n",
    "             'axcye',\n",
    "             'wvxyz'])"
   ]
  },
  {
   "cell_type": "code",
   "execution_count": 16,
   "metadata": {},
   "outputs": [
    {
     "data": {
      "text/plain": [
       "('fzvstwblgqkhpuixdrnevmaycd',\n",
       " 'fivstwblgqkhpuixdrnevmaycd',\n",
       " 'fvstwblgqkhpuixdrnevmaycd')"
      ]
     },
     "execution_count": 16,
     "metadata": {},
     "output_type": "execute_result"
    }
   ],
   "source": [
    "similar_ids(ids)"
   ]
  },
  {
   "cell_type": "markdown",
   "metadata": {},
   "source": [
    "## Day 3"
   ]
  },
  {
   "cell_type": "code",
   "execution_count": 17,
   "metadata": {},
   "outputs": [],
   "source": [
    "claims = read_input(3)"
   ]
  },
  {
   "cell_type": "code",
   "execution_count": 18,
   "metadata": {},
   "outputs": [],
   "source": [
    "import re\n",
    "\n",
    "\n",
    "claim_patt = re.compile(r'\\#(?P<id>\\d+) @ (?P<ho>\\d+),(?P<vo>\\d+): (?P<w>\\d+)x(?P<h>\\d+)')"
   ]
  },
  {
   "cell_type": "code",
   "execution_count": 19,
   "metadata": {},
   "outputs": [
    {
     "data": {
      "text/plain": [
       "{'id': '123', 'ho': '3', 'vo': '2', 'w': '5', 'h': '4'}"
      ]
     },
     "execution_count": 19,
     "metadata": {},
     "output_type": "execute_result"
    }
   ],
   "source": [
    "claim_patt.match('#123 @ 3,2: 5x4').groupdict()"
   ]
  },
  {
   "cell_type": "code",
   "execution_count": 20,
   "metadata": {},
   "outputs": [],
   "source": [
    "def claim_fabric(claims):\n",
    "    fabric = defaultdict(list)\n",
    "    \n",
    "    for claim in claims:\n",
    "        parsed = claim_patt.match(claim).groupdict()\n",
    "        \n",
    "        id = int(parsed['id'])\n",
    "        horizontal_offset = int(parsed['ho'])\n",
    "        vertical_offset = int(parsed['vo'])\n",
    "        width = int(parsed['w'])\n",
    "        height = int(parsed['h'])\n",
    "        \n",
    "        for x in range(width):\n",
    "            for y in range(height):\n",
    "                fabric[(horizontal_offset + x,\n",
    "                        vertical_offset + y)].append(id)\n",
    "                \n",
    "    return fabric\n",
    "                \n",
    "\n",
    "def find_overlaps(claims):\n",
    "    fabric = claim_fabric(claims)\n",
    "                \n",
    "    num_overlaps = 0\n",
    "    for ids in fabric.values():\n",
    "        if len(ids) > 1:\n",
    "            num_overlaps += 1\n",
    "            \n",
    "    return num_overlaps"
   ]
  },
  {
   "cell_type": "code",
   "execution_count": 21,
   "metadata": {},
   "outputs": [
    {
     "data": {
      "text/plain": [
       "109785"
      ]
     },
     "execution_count": 21,
     "metadata": {},
     "output_type": "execute_result"
    }
   ],
   "source": [
    "find_overlaps(claims)"
   ]
  },
  {
   "cell_type": "code",
   "execution_count": 22,
   "metadata": {},
   "outputs": [],
   "source": [
    "def find_non_overlapped(claims):\n",
    "    fabric = claim_fabric(claims)\n",
    "    \n",
    "    all_ids = set()\n",
    "    overlaps = set()\n",
    "    \n",
    "    for ids in fabric.values():\n",
    "        if len(ids) > 1:\n",
    "            overlapped = True\n",
    "        else:\n",
    "            overlapped = False\n",
    "            \n",
    "        for id in ids:\n",
    "            all_ids.add(id)\n",
    "            if overlapped:\n",
    "                overlaps.add(id)\n",
    "                \n",
    "    return all_ids.difference(overlaps)"
   ]
  },
  {
   "cell_type": "code",
   "execution_count": 23,
   "metadata": {},
   "outputs": [
    {
     "data": {
      "text/plain": [
       "{3}"
      ]
     },
     "execution_count": 23,
     "metadata": {},
     "output_type": "execute_result"
    }
   ],
   "source": [
    "find_non_overlapped(['#1 @ 1,3: 4x4',\n",
    "                     '#2 @ 3,1: 4x4',\n",
    "                     '#3 @ 5,5: 2x2'])"
   ]
  },
  {
   "cell_type": "code",
   "execution_count": 24,
   "metadata": {},
   "outputs": [
    {
     "data": {
      "text/plain": [
       "{504}"
      ]
     },
     "execution_count": 24,
     "metadata": {},
     "output_type": "execute_result"
    }
   ],
   "source": [
    "find_non_overlapped(claims)"
   ]
  },
  {
   "cell_type": "markdown",
   "metadata": {},
   "source": [
    "## Day 4"
   ]
  },
  {
   "cell_type": "code",
   "execution_count": 25,
   "metadata": {},
   "outputs": [],
   "source": [
    "entries = read_input(4)"
   ]
  },
  {
   "cell_type": "code",
   "execution_count": 27,
   "metadata": {},
   "outputs": [],
   "source": [
    "def entries_chronological(entries):\n",
    "    return sorted(entries)"
   ]
  },
  {
   "cell_type": "code",
   "execution_count": 62,
   "metadata": {},
   "outputs": [
    {
     "name": "stdout",
     "output_type": "stream",
     "text": [
      "Shuffled\n",
      "--------\n"
     ]
    },
    {
     "data": {
      "text/plain": [
       "['[1518-11-05 00:55] wakes up',\n",
       " '[1518-11-02 00:40] falls asleep',\n",
       " '[1518-11-01 23:58] Guard #99 begins shift',\n",
       " '[1518-11-05 00:03] Guard #99 begins shift',\n",
       " '[1518-11-05 00:45] falls asleep',\n",
       " '[1518-11-01 00:00] Guard #10 begins shift',\n",
       " '[1518-11-04 00:36] falls asleep',\n",
       " '[1518-11-03 00:29] wakes up',\n",
       " '[1518-11-04 00:46] wakes up',\n",
       " '[1518-11-03 00:24] falls asleep',\n",
       " '[1518-11-01 00:05] falls asleep',\n",
       " '[1518-11-01 00:55] wakes up',\n",
       " '[1518-11-01 00:25] wakes up',\n",
       " '[1518-11-02 00:50] wakes up',\n",
       " '[1518-11-04 00:02] Guard #99 begins shift',\n",
       " '[1518-11-01 00:30] falls asleep',\n",
       " '[1518-11-03 00:05] Guard #10 begins shift']"
      ]
     },
     "metadata": {},
     "output_type": "display_data"
    },
    {
     "name": "stdout",
     "output_type": "stream",
     "text": [
      "\n",
      "\n",
      "Sorted\n",
      "------\n"
     ]
    },
    {
     "data": {
      "text/plain": [
       "['[1518-11-01 00:00] Guard #10 begins shift',\n",
       " '[1518-11-01 00:05] falls asleep',\n",
       " '[1518-11-01 00:25] wakes up',\n",
       " '[1518-11-01 00:30] falls asleep',\n",
       " '[1518-11-01 00:55] wakes up',\n",
       " '[1518-11-01 23:58] Guard #99 begins shift',\n",
       " '[1518-11-02 00:40] falls asleep',\n",
       " '[1518-11-02 00:50] wakes up',\n",
       " '[1518-11-03 00:05] Guard #10 begins shift',\n",
       " '[1518-11-03 00:24] falls asleep',\n",
       " '[1518-11-03 00:29] wakes up',\n",
       " '[1518-11-04 00:02] Guard #99 begins shift',\n",
       " '[1518-11-04 00:36] falls asleep',\n",
       " '[1518-11-04 00:46] wakes up',\n",
       " '[1518-11-05 00:03] Guard #99 begins shift',\n",
       " '[1518-11-05 00:45] falls asleep',\n",
       " '[1518-11-05 00:55] wakes up']"
      ]
     },
     "metadata": {},
     "output_type": "display_data"
    }
   ],
   "source": [
    "import random\n",
    "\n",
    "ex_entries = ['[1518-11-01 00:00] Guard #10 begins shift',\n",
    "              '[1518-11-01 00:05] falls asleep',\n",
    "              '[1518-11-01 00:25] wakes up',\n",
    "              '[1518-11-01 00:30] falls asleep',\n",
    "              '[1518-11-01 00:55] wakes up',\n",
    "              '[1518-11-01 23:58] Guard #99 begins shift',\n",
    "              '[1518-11-02 00:40] falls asleep',\n",
    "              '[1518-11-02 00:50] wakes up',\n",
    "              '[1518-11-03 00:05] Guard #10 begins shift',\n",
    "              '[1518-11-03 00:24] falls asleep',\n",
    "              '[1518-11-03 00:29] wakes up',\n",
    "              '[1518-11-04 00:02] Guard #99 begins shift',\n",
    "              '[1518-11-04 00:36] falls asleep',\n",
    "              '[1518-11-04 00:46] wakes up',\n",
    "              '[1518-11-05 00:03] Guard #99 begins shift',\n",
    "              '[1518-11-05 00:45] falls asleep',\n",
    "              '[1518-11-05 00:55] wakes up']\n",
    "\n",
    "ex_entries_shuffled = ex_entries.copy()\n",
    "random.shuffle(ex_entries_shuffled)\n",
    "\n",
    "print('Shuffled')\n",
    "print('--------')\n",
    "display(ex_entries_shuffled)\n",
    "print()\n",
    "print()\n",
    "\n",
    "print('Sorted')\n",
    "print('------')\n",
    "display(entries_chronological(ex_entries_shuffled))"
   ]
  },
  {
   "cell_type": "code",
   "execution_count": 38,
   "metadata": {},
   "outputs": [],
   "source": [
    "ordered_entries = entries_chronological(entries)"
   ]
  },
  {
   "cell_type": "code",
   "execution_count": 26,
   "metadata": {},
   "outputs": [],
   "source": [
    "from collections import namedtuple\n",
    "\n",
    "LogEntry = namedtuple('LogEntry', ('timestamp', 'id', 'action'))"
   ]
  },
  {
   "cell_type": "code",
   "execution_count": 40,
   "metadata": {},
   "outputs": [],
   "source": [
    "log_patt = re.compile(r'\\[(?P<timestamp>\\d{4}-\\d{2}-\\d{2}\\s+\\d{2}:\\d{2})\\]\\s+'\n",
    "                      r'(?P<action>.+)')\n",
    "begins_shift_patt = re.compile(r'Guard\\s+\\#(?P<id>\\d+)\\s+begins\\s+shift')\n",
    "falls_asleep_patt = re.compile(r'falls\\s+asleep')\n",
    "wakes_up_patt = re.compile(r'wakes\\s+up')"
   ]
  },
  {
   "cell_type": "code",
   "execution_count": 41,
   "metadata": {},
   "outputs": [
    {
     "data": {
      "text/plain": [
       "{'timestamp': '1518-11-01 00:00', 'action': 'Guard #10 begins shift'}"
      ]
     },
     "execution_count": 41,
     "metadata": {},
     "output_type": "execute_result"
    }
   ],
   "source": [
    "log_patt.match(ex[0]).groupdict()"
   ]
  },
  {
   "cell_type": "code",
   "execution_count": 48,
   "metadata": {},
   "outputs": [],
   "source": [
    "from datetime import datetime\n",
    "\n",
    "log_timestamp_format = '%Y-%m-%d %H:%M'"
   ]
  },
  {
   "cell_type": "code",
   "execution_count": 49,
   "metadata": {},
   "outputs": [
    {
     "data": {
      "text/plain": [
       "datetime.datetime(1518, 11, 3, 0, 29)"
      ]
     },
     "execution_count": 49,
     "metadata": {},
     "output_type": "execute_result"
    }
   ],
   "source": [
    "datetime.strptime('1518-11-03 00:29', log_timestamp_format)"
   ]
  },
  {
   "cell_type": "code",
   "execution_count": 96,
   "metadata": {},
   "outputs": [],
   "source": [
    "def parse_entries(entries):\n",
    "    parsed_entries = []\n",
    "    \n",
    "    id = None\n",
    "    \n",
    "    for entry in entries:\n",
    "        parsed = log_patt.match(entry).groupdict()\n",
    "        \n",
    "        timestamp = datetime.strptime(parsed['timestamp'], log_timestamp_format)\n",
    "        action = parsed['action']\n",
    "        \n",
    "        begins_shift = begins_shift_patt.match(action)\n",
    "        if begins_shift:\n",
    "            id = int(begins_shift.groupdict()['id'])\n",
    "            action = 'begins shift'\n",
    "        elif falls_asleep_patt.match(action):\n",
    "            action = 'falls asleep'\n",
    "        elif wakes_up_patt.match(action):\n",
    "            action = 'wakes up'\n",
    "        else:\n",
    "            raise IOError(f'unable to parse {action}')\n",
    "            \n",
    "        parsed_entries.append(LogEntry(timestamp, id, action))\n",
    "        \n",
    "    return parsed_entries"
   ]
  },
  {
   "cell_type": "code",
   "execution_count": 97,
   "metadata": {},
   "outputs": [
    {
     "data": {
      "text/plain": [
       "[LogEntry(timestamp=datetime.datetime(1518, 11, 1, 0, 0), id=10, action='begins shift'),\n",
       " LogEntry(timestamp=datetime.datetime(1518, 11, 1, 0, 5), id=10, action='falls asleep'),\n",
       " LogEntry(timestamp=datetime.datetime(1518, 11, 1, 0, 25), id=10, action='wakes up'),\n",
       " LogEntry(timestamp=datetime.datetime(1518, 11, 1, 0, 30), id=10, action='falls asleep'),\n",
       " LogEntry(timestamp=datetime.datetime(1518, 11, 1, 0, 55), id=10, action='wakes up'),\n",
       " LogEntry(timestamp=datetime.datetime(1518, 11, 1, 23, 58), id=99, action='begins shift'),\n",
       " LogEntry(timestamp=datetime.datetime(1518, 11, 2, 0, 40), id=99, action='falls asleep'),\n",
       " LogEntry(timestamp=datetime.datetime(1518, 11, 2, 0, 50), id=99, action='wakes up'),\n",
       " LogEntry(timestamp=datetime.datetime(1518, 11, 3, 0, 5), id=10, action='begins shift'),\n",
       " LogEntry(timestamp=datetime.datetime(1518, 11, 3, 0, 24), id=10, action='falls asleep'),\n",
       " LogEntry(timestamp=datetime.datetime(1518, 11, 3, 0, 29), id=10, action='wakes up'),\n",
       " LogEntry(timestamp=datetime.datetime(1518, 11, 4, 0, 2), id=99, action='begins shift'),\n",
       " LogEntry(timestamp=datetime.datetime(1518, 11, 4, 0, 36), id=99, action='falls asleep'),\n",
       " LogEntry(timestamp=datetime.datetime(1518, 11, 4, 0, 46), id=99, action='wakes up'),\n",
       " LogEntry(timestamp=datetime.datetime(1518, 11, 5, 0, 3), id=99, action='begins shift'),\n",
       " LogEntry(timestamp=datetime.datetime(1518, 11, 5, 0, 45), id=99, action='falls asleep'),\n",
       " LogEntry(timestamp=datetime.datetime(1518, 11, 5, 0, 55), id=99, action='wakes up')]"
      ]
     },
     "execution_count": 97,
     "metadata": {},
     "output_type": "execute_result"
    }
   ],
   "source": [
    "ex_entries_parsed = parse_entries(ex_entries); ex_entries_parsed"
   ]
  },
  {
   "cell_type": "code",
   "execution_count": 98,
   "metadata": {},
   "outputs": [],
   "source": [
    "parsed_entries = parse_entries(ordered_entries)"
   ]
  },
  {
   "cell_type": "code",
   "execution_count": 104,
   "metadata": {},
   "outputs": [],
   "source": [
    "def most_asleep_guard(entries):\n",
    "    sleep_count = defaultdict(int)\n",
    "    \n",
    "    id = -1\n",
    "    \n",
    "    for entry in entries:\n",
    "        if entry.id != id:\n",
    "            sleeping = False\n",
    "            id = entry.id\n",
    "        if entry.action == 'falls asleep':\n",
    "            sleeping = True\n",
    "            time = entry.timestamp\n",
    "        elif entry.action == 'wakes up':\n",
    "            sleeping = False\n",
    "            sleep_count[id] += entry.timestamp.minute - time.minute\n",
    "            \n",
    "    return max(sleep_count.items(), key=lambda e: e[1])[0]"
   ]
  },
  {
   "cell_type": "code",
   "execution_count": 105,
   "metadata": {},
   "outputs": [
    {
     "data": {
      "text/plain": [
       "10"
      ]
     },
     "execution_count": 105,
     "metadata": {},
     "output_type": "execute_result"
    }
   ],
   "source": [
    "most_asleep_guard(ex_entries_parsed)"
   ]
  },
  {
   "cell_type": "code",
   "execution_count": 106,
   "metadata": {},
   "outputs": [
    {
     "data": {
      "text/plain": [
       "2953"
      ]
     },
     "execution_count": 106,
     "metadata": {},
     "output_type": "execute_result"
    }
   ],
   "source": [
    "most_asleep_guard(parsed_entries)"
   ]
  },
  {
   "cell_type": "code",
   "execution_count": null,
   "metadata": {},
   "outputs": [],
   "source": []
  }
 ],
 "metadata": {
  "kernelspec": {
   "display_name": "Python [conda env:.conda]",
   "language": "python",
   "name": "conda-env-.conda-py"
  },
  "language_info": {
   "codemirror_mode": {
    "name": "ipython",
    "version": 3
   },
   "file_extension": ".py",
   "mimetype": "text/x-python",
   "name": "python",
   "nbconvert_exporter": "python",
   "pygments_lexer": "ipython3",
   "version": "3.7.0"
  }
 },
 "nbformat": 4,
 "nbformat_minor": 2
}
